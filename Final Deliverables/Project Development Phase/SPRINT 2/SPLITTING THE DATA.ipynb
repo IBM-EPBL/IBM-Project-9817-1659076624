{
 "cells": [
  {
   "cell_type": "markdown",
   "id": "0eb9e1fd",
   "metadata": {},
   "source": [
    "# \n",
    "# SPLITTING DATASET INTO DEPENDENT AND INDEPENDENT VARIABLE"
   ]
  },
  {
   "cell_type": "code",
   "execution_count": 3,
   "id": "a03424a6",
   "metadata": {},
   "outputs": [],
   "source": [
    "\n",
    "x = data.iloc[:,:-1]\n",
    "y = data['classification']\n",
    "\n",
    "lab_enc = preprocessing.LabelEncoder()\n",
    "y = lab_enc.fit_transform(y)"
   ]
  },
  {
   "cell_type": "markdown",
   "id": "96f589e2",
   "metadata": {},
   "source": [
    "# SPLITTING THE DATASET INTO TRAINING AND TEST TEST\n"
   ]
  },
  {
   "cell_type": "code",
   "execution_count": 4,
   "id": "b38dd01c",
   "metadata": {},
   "outputs": [],
   "source": [
    "X_train, X_test, y_train, y_test = train_test_split(x, y, test_size = 0.31, random_state =2029)"
   ]
  }
 ],
 "metadata": {
  "kernelspec": {
   "display_name": "Python 3 (ipykernel)",
   "language": "python",
   "name": "python3"
  },
  "language_info": {
   "codemirror_mode": {
    "name": "ipython",
    "version": 3
   },
   "file_extension": ".py",
   "mimetype": "text/x-python",
   "name": "python",
   "nbconvert_exporter": "python",
   "pygments_lexer": "ipython3",
   "version": "3.9.12"
  }
 },
 "nbformat": 4,
 "nbformat_minor": 5
}
